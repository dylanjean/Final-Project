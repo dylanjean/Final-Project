{
 "cells": [
  {
   "cell_type": "code",
   "execution_count": 8,
   "metadata": {},
   "outputs": [],
   "source": [
    "# Import Dependencies\n",
    "\n",
    "import pandas as pd\n",
    "import quandl\n",
    "import matplotlib.pyplot as plt\n",
    "import seaborn as sns\n",
    "\n",
    "from config import api_key\n",
    "\n",
    "%matplotlib inline"
   ]
  },
  {
   "cell_type": "code",
   "execution_count": 9,
   "metadata": {
    "scrolled": true
   },
   "outputs": [
    {
     "data": {
      "text/html": [
       "<div>\n",
       "<style scoped>\n",
       "    .dataframe tbody tr th:only-of-type {\n",
       "        vertical-align: middle;\n",
       "    }\n",
       "\n",
       "    .dataframe tbody tr th {\n",
       "        vertical-align: top;\n",
       "    }\n",
       "\n",
       "    .dataframe thead th {\n",
       "        text-align: right;\n",
       "    }\n",
       "</style>\n",
       "<table border=\"1\" class=\"dataframe\">\n",
       "  <thead>\n",
       "    <tr style=\"text-align: right;\">\n",
       "      <th></th>\n",
       "      <th>USD (AM)</th>\n",
       "      <th>USD (PM)</th>\n",
       "      <th>GBP (AM)</th>\n",
       "      <th>GBP (PM)</th>\n",
       "      <th>EURO (AM)</th>\n",
       "      <th>EURO (PM)</th>\n",
       "    </tr>\n",
       "    <tr>\n",
       "      <th>Date</th>\n",
       "      <th></th>\n",
       "      <th></th>\n",
       "      <th></th>\n",
       "      <th></th>\n",
       "      <th></th>\n",
       "      <th></th>\n",
       "    </tr>\n",
       "  </thead>\n",
       "  <tbody>\n",
       "    <tr>\n",
       "      <th>2020-11-13</th>\n",
       "      <td>1878.20</td>\n",
       "      <td>1890.90</td>\n",
       "      <td>1425.93</td>\n",
       "      <td>1437.08</td>\n",
       "      <td>1588.02</td>\n",
       "      <td>1600.27</td>\n",
       "    </tr>\n",
       "    <tr>\n",
       "      <th>2020-11-12</th>\n",
       "      <td>1868.00</td>\n",
       "      <td>1874.85</td>\n",
       "      <td>1415.57</td>\n",
       "      <td>1424.70</td>\n",
       "      <td>1581.08</td>\n",
       "      <td>1589.31</td>\n",
       "    </tr>\n",
       "    <tr>\n",
       "      <th>2020-11-11</th>\n",
       "      <td>1876.20</td>\n",
       "      <td>1860.95</td>\n",
       "      <td>1415.41</td>\n",
       "      <td>1408.37</td>\n",
       "      <td>1591.02</td>\n",
       "      <td>1583.48</td>\n",
       "    </tr>\n",
       "    <tr>\n",
       "      <th>2020-11-10</th>\n",
       "      <td>1874.90</td>\n",
       "      <td>1878.70</td>\n",
       "      <td>1416.49</td>\n",
       "      <td>1417.48</td>\n",
       "      <td>1589.54</td>\n",
       "      <td>1590.13</td>\n",
       "    </tr>\n",
       "    <tr>\n",
       "      <th>2020-11-09</th>\n",
       "      <td>1957.45</td>\n",
       "      <td>1867.30</td>\n",
       "      <td>1489.23</td>\n",
       "      <td>1417.47</td>\n",
       "      <td>1648.76</td>\n",
       "      <td>1573.95</td>\n",
       "    </tr>\n",
       "    <tr>\n",
       "      <th>2020-11-06</th>\n",
       "      <td>1947.95</td>\n",
       "      <td>1940.80</td>\n",
       "      <td>1483.17</td>\n",
       "      <td>1480.05</td>\n",
       "      <td>1642.71</td>\n",
       "      <td>1636.29</td>\n",
       "    </tr>\n",
       "    <tr>\n",
       "      <th>2020-11-05</th>\n",
       "      <td>1916.80</td>\n",
       "      <td>1938.45</td>\n",
       "      <td>1468.84</td>\n",
       "      <td>1480.78</td>\n",
       "      <td>1624.68</td>\n",
       "      <td>1638.38</td>\n",
       "    </tr>\n",
       "    <tr>\n",
       "      <th>2020-11-04</th>\n",
       "      <td>1888.55</td>\n",
       "      <td>1900.15</td>\n",
       "      <td>1455.69</td>\n",
       "      <td>1462.17</td>\n",
       "      <td>1616.41</td>\n",
       "      <td>1621.97</td>\n",
       "    </tr>\n",
       "    <tr>\n",
       "      <th>2020-11-03</th>\n",
       "      <td>1899.85</td>\n",
       "      <td>1908.30</td>\n",
       "      <td>1462.31</td>\n",
       "      <td>1464.05</td>\n",
       "      <td>1624.37</td>\n",
       "      <td>1628.73</td>\n",
       "    </tr>\n",
       "    <tr>\n",
       "      <th>2020-11-02</th>\n",
       "      <td>1886.75</td>\n",
       "      <td>1889.90</td>\n",
       "      <td>1460.34</td>\n",
       "      <td>1463.16</td>\n",
       "      <td>1620.72</td>\n",
       "      <td>1624.56</td>\n",
       "    </tr>\n",
       "  </tbody>\n",
       "</table>\n",
       "</div>"
      ],
      "text/plain": [
       "            USD (AM)  USD (PM)  GBP (AM)  GBP (PM)  EURO (AM)  EURO (PM)\n",
       "Date                                                                    \n",
       "2020-11-13   1878.20   1890.90   1425.93   1437.08    1588.02    1600.27\n",
       "2020-11-12   1868.00   1874.85   1415.57   1424.70    1581.08    1589.31\n",
       "2020-11-11   1876.20   1860.95   1415.41   1408.37    1591.02    1583.48\n",
       "2020-11-10   1874.90   1878.70   1416.49   1417.48    1589.54    1590.13\n",
       "2020-11-09   1957.45   1867.30   1489.23   1417.47    1648.76    1573.95\n",
       "2020-11-06   1947.95   1940.80   1483.17   1480.05    1642.71    1636.29\n",
       "2020-11-05   1916.80   1938.45   1468.84   1480.78    1624.68    1638.38\n",
       "2020-11-04   1888.55   1900.15   1455.69   1462.17    1616.41    1621.97\n",
       "2020-11-03   1899.85   1908.30   1462.31   1464.05    1624.37    1628.73\n",
       "2020-11-02   1886.75   1889.90   1460.34   1463.16    1620.72    1624.56"
      ]
     },
     "execution_count": 9,
     "metadata": {},
     "output_type": "execute_result"
    }
   ],
   "source": [
    "# retrieve gold price time series from Quandl API\n",
    "\n",
    "quandl.ApiConfig.api_key = #api_key  # remove hash tag to run API call\n",
    "raw_data = quandl.get('LBMA/GOLD', start_date='2010-01-01', end_date='2020-11-30', order='desc')\n",
    "raw_data.head(10)"
   ]
  },
  {
   "cell_type": "code",
   "execution_count": 10,
   "metadata": {
    "scrolled": true
   },
   "outputs": [
    {
     "data": {
      "text/html": [
       "<div>\n",
       "<style scoped>\n",
       "    .dataframe tbody tr th:only-of-type {\n",
       "        vertical-align: middle;\n",
       "    }\n",
       "\n",
       "    .dataframe tbody tr th {\n",
       "        vertical-align: top;\n",
       "    }\n",
       "\n",
       "    .dataframe thead th {\n",
       "        text-align: right;\n",
       "    }\n",
       "</style>\n",
       "<table border=\"1\" class=\"dataframe\">\n",
       "  <thead>\n",
       "    <tr style=\"text-align: right;\">\n",
       "      <th></th>\n",
       "      <th>USD (AM)</th>\n",
       "      <th>USD (PM)</th>\n",
       "      <th>GBP (AM)</th>\n",
       "      <th>GBP (PM)</th>\n",
       "      <th>EURO (AM)</th>\n",
       "      <th>EURO (PM)</th>\n",
       "    </tr>\n",
       "    <tr>\n",
       "      <th>Date</th>\n",
       "      <th></th>\n",
       "      <th></th>\n",
       "      <th></th>\n",
       "      <th></th>\n",
       "      <th></th>\n",
       "      <th></th>\n",
       "    </tr>\n",
       "  </thead>\n",
       "  <tbody>\n",
       "    <tr>\n",
       "      <th>2010-01-15</th>\n",
       "      <td>1132.00</td>\n",
       "      <td>1128.00</td>\n",
       "      <td>695.332</td>\n",
       "      <td>692.875</td>\n",
       "      <td>786.652</td>\n",
       "      <td>784.969</td>\n",
       "    </tr>\n",
       "    <tr>\n",
       "      <th>2010-01-14</th>\n",
       "      <td>1137.50</td>\n",
       "      <td>1138.25</td>\n",
       "      <td>698.710</td>\n",
       "      <td>698.099</td>\n",
       "      <td>783.834</td>\n",
       "      <td>785.921</td>\n",
       "    </tr>\n",
       "    <tr>\n",
       "      <th>2010-01-13</th>\n",
       "      <td>1132.75</td>\n",
       "      <td>1127.25</td>\n",
       "      <td>697.377</td>\n",
       "      <td>693.266</td>\n",
       "      <td>780.615</td>\n",
       "      <td>776.343</td>\n",
       "    </tr>\n",
       "    <tr>\n",
       "      <th>2010-01-12</th>\n",
       "      <td>1152.75</td>\n",
       "      <td>1151.25</td>\n",
       "      <td>713.821</td>\n",
       "      <td>712.495</td>\n",
       "      <td>794.836</td>\n",
       "      <td>793.145</td>\n",
       "    </tr>\n",
       "    <tr>\n",
       "      <th>2010-01-11</th>\n",
       "      <td>1158.00</td>\n",
       "      <td>1153.00</td>\n",
       "      <td>716.318</td>\n",
       "      <td>714.817</td>\n",
       "      <td>797.740</td>\n",
       "      <td>794.351</td>\n",
       "    </tr>\n",
       "    <tr>\n",
       "      <th>2010-01-08</th>\n",
       "      <td>1121.75</td>\n",
       "      <td>1126.75</td>\n",
       "      <td>699.913</td>\n",
       "      <td>704.395</td>\n",
       "      <td>783.400</td>\n",
       "      <td>786.837</td>\n",
       "    </tr>\n",
       "    <tr>\n",
       "      <th>2010-01-07</th>\n",
       "      <td>1130.75</td>\n",
       "      <td>1130.25</td>\n",
       "      <td>709.468</td>\n",
       "      <td>710.090</td>\n",
       "      <td>787.650</td>\n",
       "      <td>789.060</td>\n",
       "    </tr>\n",
       "    <tr>\n",
       "      <th>2010-01-06</th>\n",
       "      <td>1125.00</td>\n",
       "      <td>1130.00</td>\n",
       "      <td>702.774</td>\n",
       "      <td>708.020</td>\n",
       "      <td>783.317</td>\n",
       "      <td>786.579</td>\n",
       "    </tr>\n",
       "    <tr>\n",
       "      <th>2010-01-05</th>\n",
       "      <td>1125.25</td>\n",
       "      <td>1123.25</td>\n",
       "      <td>701.702</td>\n",
       "      <td>700.324</td>\n",
       "      <td>779.529</td>\n",
       "      <td>779.385</td>\n",
       "    </tr>\n",
       "    <tr>\n",
       "      <th>2010-01-04</th>\n",
       "      <td>1113.00</td>\n",
       "      <td>1121.50</td>\n",
       "      <td>686.825</td>\n",
       "      <td>693.483</td>\n",
       "      <td>774.261</td>\n",
       "      <td>777.470</td>\n",
       "    </tr>\n",
       "  </tbody>\n",
       "</table>\n",
       "</div>"
      ],
      "text/plain": [
       "            USD (AM)  USD (PM)  GBP (AM)  GBP (PM)  EURO (AM)  EURO (PM)\n",
       "Date                                                                    \n",
       "2010-01-15   1132.00   1128.00   695.332   692.875    786.652    784.969\n",
       "2010-01-14   1137.50   1138.25   698.710   698.099    783.834    785.921\n",
       "2010-01-13   1132.75   1127.25   697.377   693.266    780.615    776.343\n",
       "2010-01-12   1152.75   1151.25   713.821   712.495    794.836    793.145\n",
       "2010-01-11   1158.00   1153.00   716.318   714.817    797.740    794.351\n",
       "2010-01-08   1121.75   1126.75   699.913   704.395    783.400    786.837\n",
       "2010-01-07   1130.75   1130.25   709.468   710.090    787.650    789.060\n",
       "2010-01-06   1125.00   1130.00   702.774   708.020    783.317    786.579\n",
       "2010-01-05   1125.25   1123.25   701.702   700.324    779.529    779.385\n",
       "2010-01-04   1113.00   1121.50   686.825   693.483    774.261    777.470"
      ]
     },
     "execution_count": 10,
     "metadata": {},
     "output_type": "execute_result"
    }
   ],
   "source": [
    "raw_data.tail(10)"
   ]
  },
  {
   "cell_type": "code",
   "execution_count": 11,
   "metadata": {},
   "outputs": [
    {
     "data": {
      "text/html": [
       "<div>\n",
       "<style scoped>\n",
       "    .dataframe tbody tr th:only-of-type {\n",
       "        vertical-align: middle;\n",
       "    }\n",
       "\n",
       "    .dataframe tbody tr th {\n",
       "        vertical-align: top;\n",
       "    }\n",
       "\n",
       "    .dataframe thead th {\n",
       "        text-align: right;\n",
       "    }\n",
       "</style>\n",
       "<table border=\"1\" class=\"dataframe\">\n",
       "  <thead>\n",
       "    <tr style=\"text-align: right;\">\n",
       "      <th></th>\n",
       "      <th>USD (AM)</th>\n",
       "      <th>USD (PM)</th>\n",
       "    </tr>\n",
       "    <tr>\n",
       "      <th>Date</th>\n",
       "      <th></th>\n",
       "      <th></th>\n",
       "    </tr>\n",
       "  </thead>\n",
       "  <tbody>\n",
       "    <tr>\n",
       "      <th>2020-11-13</th>\n",
       "      <td>1878.20</td>\n",
       "      <td>1890.90</td>\n",
       "    </tr>\n",
       "    <tr>\n",
       "      <th>2020-11-12</th>\n",
       "      <td>1868.00</td>\n",
       "      <td>1874.85</td>\n",
       "    </tr>\n",
       "    <tr>\n",
       "      <th>2020-11-11</th>\n",
       "      <td>1876.20</td>\n",
       "      <td>1860.95</td>\n",
       "    </tr>\n",
       "    <tr>\n",
       "      <th>2020-11-10</th>\n",
       "      <td>1874.90</td>\n",
       "      <td>1878.70</td>\n",
       "    </tr>\n",
       "    <tr>\n",
       "      <th>2020-11-09</th>\n",
       "      <td>1957.45</td>\n",
       "      <td>1867.30</td>\n",
       "    </tr>\n",
       "  </tbody>\n",
       "</table>\n",
       "</div>"
      ],
      "text/plain": [
       "            USD (AM)  USD (PM)\n",
       "Date                          \n",
       "2020-11-13   1878.20   1890.90\n",
       "2020-11-12   1868.00   1874.85\n",
       "2020-11-11   1876.20   1860.95\n",
       "2020-11-10   1874.90   1878.70\n",
       "2020-11-09   1957.45   1867.30"
      ]
     },
     "execution_count": 11,
     "metadata": {},
     "output_type": "execute_result"
    }
   ],
   "source": [
    "# delete extra columns\n",
    "\n",
    "clean_data = raw_data[['USD (AM)', 'USD (PM)']]\n",
    "clean_data.head()"
   ]
  },
  {
   "cell_type": "code",
   "execution_count": 12,
   "metadata": {
    "scrolled": true
   },
   "outputs": [
    {
     "data": {
      "text/html": [
       "<div>\n",
       "<style scoped>\n",
       "    .dataframe tbody tr th:only-of-type {\n",
       "        vertical-align: middle;\n",
       "    }\n",
       "\n",
       "    .dataframe tbody tr th {\n",
       "        vertical-align: top;\n",
       "    }\n",
       "\n",
       "    .dataframe thead th {\n",
       "        text-align: right;\n",
       "    }\n",
       "</style>\n",
       "<table border=\"1\" class=\"dataframe\">\n",
       "  <thead>\n",
       "    <tr style=\"text-align: right;\">\n",
       "      <th></th>\n",
       "      <th>open_price</th>\n",
       "      <th>close_price</th>\n",
       "    </tr>\n",
       "    <tr>\n",
       "      <th>Date</th>\n",
       "      <th></th>\n",
       "      <th></th>\n",
       "    </tr>\n",
       "  </thead>\n",
       "  <tbody>\n",
       "    <tr>\n",
       "      <th>2020-11-13</th>\n",
       "      <td>1878.20</td>\n",
       "      <td>1890.90</td>\n",
       "    </tr>\n",
       "    <tr>\n",
       "      <th>2020-11-12</th>\n",
       "      <td>1868.00</td>\n",
       "      <td>1874.85</td>\n",
       "    </tr>\n",
       "    <tr>\n",
       "      <th>2020-11-11</th>\n",
       "      <td>1876.20</td>\n",
       "      <td>1860.95</td>\n",
       "    </tr>\n",
       "    <tr>\n",
       "      <th>2020-11-10</th>\n",
       "      <td>1874.90</td>\n",
       "      <td>1878.70</td>\n",
       "    </tr>\n",
       "    <tr>\n",
       "      <th>2020-11-09</th>\n",
       "      <td>1957.45</td>\n",
       "      <td>1867.30</td>\n",
       "    </tr>\n",
       "  </tbody>\n",
       "</table>\n",
       "</div>"
      ],
      "text/plain": [
       "            open_price  close_price\n",
       "Date                               \n",
       "2020-11-13     1878.20      1890.90\n",
       "2020-11-12     1868.00      1874.85\n",
       "2020-11-11     1876.20      1860.95\n",
       "2020-11-10     1874.90      1878.70\n",
       "2020-11-09     1957.45      1867.30"
      ]
     },
     "execution_count": 12,
     "metadata": {},
     "output_type": "execute_result"
    }
   ],
   "source": [
    "# rename columns\n",
    "\n",
    "clean_data = clean_data.rename(columns={\"USD (AM)\":\"open_price\", \"USD (PM)\":\"close_price\"})\n",
    "clean_data.head()"
   ]
  },
  {
   "cell_type": "code",
   "execution_count": 14,
   "metadata": {
    "scrolled": false
   },
   "outputs": [
    {
     "name": "stdout",
     "output_type": "stream",
     "text": [
      "<class 'pandas.core.frame.DataFrame'>\n",
      "DatetimeIndex: 2748 entries, 2020-11-13 to 2010-01-04\n",
      "Data columns (total 2 columns):\n",
      " #   Column       Non-Null Count  Dtype  \n",
      "---  ------       --------------  -----  \n",
      " 0   open_price   2748 non-null   float64\n",
      " 1   close_price  2728 non-null   float64\n",
      "dtypes: float64(2)\n",
      "memory usage: 64.4 KB\n"
     ]
    }
   ],
   "source": [
    "# check for null values\n",
    "clean_data.info()"
   ]
  },
  {
   "cell_type": "code",
   "execution_count": 15,
   "metadata": {},
   "outputs": [
    {
     "name": "stdout",
     "output_type": "stream",
     "text": [
      "<class 'pandas.core.frame.DataFrame'>\n",
      "DatetimeIndex: 2728 entries, 2020-11-13 to 2010-01-04\n",
      "Data columns (total 2 columns):\n",
      " #   Column       Non-Null Count  Dtype  \n",
      "---  ------       --------------  -----  \n",
      " 0   open_price   2728 non-null   float64\n",
      " 1   close_price  2728 non-null   float64\n",
      "dtypes: float64(2)\n",
      "memory usage: 63.9 KB\n"
     ]
    }
   ],
   "source": [
    "# drop the null rows and re-check for null values\n",
    "clean_data = clean_data.dropna()\n",
    "clean_data.info()"
   ]
  },
  {
   "cell_type": "code",
   "execution_count": 20,
   "metadata": {},
   "outputs": [
    {
     "data": {
      "image/png": "[encoded data removed]",
      "text/plain": [
       "<Figure size 1008x576 with 1 Axes>"
      ]
     },
     "metadata": {
      "needs_background": "light"
     },
     "output_type": "display_data"
    }
   ],
   "source": [
    "# plot close price vs. time to review completeness of data\n",
    "\n",
    "clean_data.plot(y='close_price', figsize=(14,8))\n",
    "plt.xlabel('Date', fontsize=14)\n",
    "plt.ylabel('Closing Price', fontsize=14)\n",
    "plt.title('Historical Gold Prices by Day')\n",
    "plt.show()"
   ]
  },
  {
   "cell_type": "code",
   "execution_count": 24,
   "metadata": {},
   "outputs": [
    {
     "name": "stdout",
     "output_type": "stream",
     "text": [
      "Skewness: %f 0.8937484369189598\n",
      "Kurtosis: -0.098299\n"
     ]
    },
    {
     "name": "stderr",
     "output_type": "stream",
     "text": [
      "C:\\Users\\dave\\anaconda3\\envs\\PythonAdv\\lib\\site-packages\\seaborn\\distributions.py:2551: FutureWarning: `distplot` is a deprecated function and will be removed in a future version. Please adapt your code to use either `displot` (a figure-level function with similar flexibility) or `histplot` (an axes-level function for histograms).\n",
      "  warnings.warn(msg, FutureWarning)\n"
     ]
    },
    {
     "data": {
      "image/png": "[encoded data removed]",
      "text/plain": [
       "<Figure size 432x288 with 1 Axes>"
      ]
     },
     "metadata": {
      "needs_background": "light"
     },
     "output_type": "display_data"
    }
   ],
   "source": [
    "# check target variable\n",
    "\n",
    "sns.distplot(clean_data['close_price'], color = 'blue')\n",
    "print('Skewness: %f', clean_data['close_price'].skew())\n",
    "print(\"Kurtosis: %f\" % clean_data['close_price'].kurt())"
   ]
  },
  {
   "cell_type": "code",
   "execution_count": null,
   "metadata": {},
   "outputs": [],
   "source": []
  }
 ],
 "metadata": {
  "kernelspec": {
   "display_name": "Python [conda env:PythonAdv] *",
   "language": "python",
   "name": "conda-env-PythonAdv-py"
  },
  "language_info": {
   "codemirror_mode": {
    "name": "ipython",
    "version": 3
   },
   "file_extension": ".py",
   "mimetype": "text/x-python",
   "name": "python",
   "nbconvert_exporter": "python",
   "pygments_lexer": "ipython3",
   "version": "3.6.12"
  }
 },
 "nbformat": 4,
 "nbformat_minor": 4
}
